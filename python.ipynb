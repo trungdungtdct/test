{
  "cells": [
    {
      "cell_type": "markdown",
      "metadata": {
        "id": "view-in-github",
        "colab_type": "text"
      },
      "source": [
        "<a href=\"https://colab.research.google.com/github/trungdungtdct/test/blob/main/python.ipynb\" target=\"_parent\"><img src=\"https://colab.research.google.com/assets/colab-badge.svg\" alt=\"Open In Colab\"/></a>"
      ]
    },
    {
      "cell_type": "code",
      "source": [
        "# To support both python 2 and python 3\n",
        "from __future__ import division, print_function, unicode_literals\n",
        "import math\n",
        "import numpy as np \n",
        "import matplotlib.pyplot as plt\n",
        "np.random.seed(4)\n",
        "\n",
        "means = [[-1, -1], [1, -1], [0, 1]]\n",
        "cov = [[1, 0], [0, 1]]\n",
        "N = 20\n",
        "X0 = np.random.multivariate_normal(means[0], cov, N)\n",
        "X1 = np.random.multivariate_normal(means[1], cov, N)\n",
        "X2 = np.random.multivariate_normal(means[2], cov, N)\n",
        "\n",
        "X = np.concatenate((X0, X1, X2), axis = 0)\n",
        "K = 3\n",
        "\n",
        "original_label = np.asarray([0]*N + [1]*N + [2]*N).T\n",
        "\n",
        "def kmeans_display(X, label):\n",
        "    K = np.amax(label) + 1\n",
        "    X0 = X[label == 0, :]\n",
        "    X1 = X[label == 1, :]\n",
        "    X2 = X[label == 2, :]\n",
        "    \n",
        "    plt.plot(X0[:, 0], X0[:, 1], 'b^', markersize = 6, alpha = .8)\n",
        "    plt.plot(X1[:, 0], X1[:, 1], 'go', markersize = 6, alpha = .8)\n",
        "    plt.plot(X2[:, 0], X2[:, 1], 'rs', markersize = 6, alpha = .8)\n",
        "\n",
        "#     plt.axis('equal')\n",
        "    plt.plot()\n",
        "#     plt.show()\n",
        "    \n",
        "kmeans_display(X, original_label)\n",
        "plt.show()\n",
        "y = original_label.T\n",
        "X = X.T\n",
        "# PHần làm việc của các hàm\n",
        "def softmax(V):\n",
        "    e_V = np.exp(V - np.max(V, axis = 0, keepdims = True))\n",
        "    Z = e_V / e_V.sum(axis = 0)\n",
        "    return Z\n",
        "\n",
        "## One-hot coding\n",
        "from scipy import sparse \n",
        "def convert_labels(y, C = 3):\n",
        "    Y = sparse.coo_matrix((np.ones_like(y), \n",
        "        (y, np.arange(len(y)))), shape = (C, len(y))).toarray()\n",
        "    return Y \n",
        "\n",
        "# cost or loss function  \n",
        "lam = 0.001 # regularization parameter \n",
        "def cost(Y, Yhat, W1, W2, lam):    \n",
        "    return -np.sum(Y*np.log(Yhat))/Y.shape[1] + \\\n",
        "        lam*(np.linalg.norm(W1)**2 + np.linalg.norm(W2)**2)\n",
        "\n",
        "d0 = 2\n",
        "d1 = h = 10 # size of hidden layer \n",
        "d2 = C = 3\n",
        "\n",
        "def mynet(lam):\n",
        "    # initialize parameters randomely \n",
        "    W1 = 0.01*np.random.randn(d0, d1)\n",
        "    b1 = np.zeros((d1, 1))\n",
        "    W2 = 0.01*np.random.randn(d1, d2)\n",
        "    b2 = np.zeros((d2, 1))\n",
        "    #print('W1',W1)\n",
        "\n",
        "    # X = X.T # each column of X is a data point \n",
        "    Y = convert_labels(y, C)\n",
        "    N = X.shape[1]\n",
        "    eta = 1 # learning rate \n",
        "    for i in range(10000):\n",
        "        ## Feedforward \n",
        "        Z1 = np.dot(W1.T, X) + b1 \n",
        "        A1 = np.maximum(Z1, 0)\n",
        "        Z2 = np.dot(W2.T, A1) + b2\n",
        "        # import pdb; pdb.set_trace()  # breakpoint 035ab9b5 //\n",
        "        Yhat = softmax(Z2)\n",
        "\n",
        "        # compute the loss: average cross-entropy loss\n",
        "        # print loss after each 1000 iterations\n",
        "        if i %1000 == 0: \n",
        "            loss = cost(Y, Yhat, W1, W2, lam)\n",
        "            print(\"iter %d, loss: %f\" %(i, loss))\n",
        "\n",
        "        # backpropagation\n",
        "        E2 = (Yhat - Y )/N\n",
        "        dW2 = np.dot(A1, E2.T) + lam*W2\n",
        "        db2 = np.sum(E2, axis = 1, keepdims = True)\n",
        "        E1 = np.dot(W2, E2)\n",
        "        E1[Z1 <= 0] = 0 # gradient of ReLU \n",
        "        dW1 = np.dot(X, E1.T) + lam*W1\n",
        "        db1 = np.sum(E1, axis = 1, keepdims = True)\n",
        "\n",
        "        # Gradient Descent update \n",
        "        # import pdb; pdb.set_trace()  # breakpoint 47741f63 //\n",
        "        W1 += -eta*dW1 \n",
        "        b1 += -eta*db1 \n",
        "        W2 += -eta*dW2\n",
        "        b2 += -eta*db2 \n",
        "#     return (W1, W2, b1, b2)\n",
        "\n",
        "    Z1 = np.dot(W1.T, X) + b1 \n",
        "    A1 = np.maximum(Z1, 0)\n",
        "    Z2 = np.dot(W2.T, A1) + b2\n",
        "    predicted_class = np.argmax(Z2, axis=0)\n",
        "    acc = (100*np.mean(predicted_class == y))\n",
        "    print('training accuracy: %.2f %%' % acc)\n",
        "\n",
        "\n",
        "    xm = np.arange(-3, 4, 0.025)\n",
        "    xlen = len(xm)\n",
        "    ym = np.arange(-4, 4, 0.025)\n",
        "    ylen = len(ym)\n",
        "    xx, yy = np.meshgrid(xm, ym)\n",
        "\n",
        "    print(np.ones((1, xx.size)).shape)\n",
        "    xx1 = xx.ravel().reshape(1, xx.size)\n",
        "    yy1 = yy.ravel().reshape(1, yy.size)\n",
        "\n",
        "    X0 = np.vstack((xx1, yy1))\n",
        "\n",
        "    Z1 = np.dot(W1.T, X0) + b1 \n",
        "    A1 = np.maximum(Z1, 0)\n",
        "    Z2 = np.dot(W2.T, A1) + b2\n",
        "    # predicted class \n",
        "    Z = np.argmax(Z2, axis=0)\n",
        "\n",
        "    Z = Z.reshape(xx.shape)\n",
        "    CS = plt.contourf(xx, yy, Z, 200, cmap='jet', alpha = .1)\n",
        "\n",
        "    kmeans_display(X.T, original_label.T)\n",
        "\n",
        "    cur_axes = plt.gca()\n",
        "    cur_axes.axes.get_xaxis().set_ticks([])\n",
        "    cur_axes.axes.get_yaxis().set_ticks([])\n",
        "    \n",
        "    plt.title('$\\lambda =$' + str(lam), fontsize = 20)\n",
        "    fn = 'nnet_reg'+ str(lam) + '.png'\n",
        "    plt.savefig(fn, bbox_inches='tight', dpi = 600)\n",
        "    \n",
        "    plt.show()\n",
        "\n",
        "mynet(0)\n",
        "# mynet(0.1)\n",
        "# mynet(0.01)\n",
        "#mynet(0.001)\n"
      ],
      "metadata": {
        "id": "MUeF4tAtgjSp",
        "colab": {
          "base_uri": "https://localhost:8080/",
          "height": 729
        },
        "outputId": "bccb3dfa-3343-42a8-e06e-3b3ff37b27fe"
      },
      "execution_count": null,
      "outputs": [
        {
          "output_type": "display_data",
          "data": {
            "text/plain": [
              "<Figure size 432x288 with 1 Axes>"
            ],
            "image/png": "[encoded data removed]"
          },
          "metadata": {
            "needs_background": "light"
          }
        },
        {
          "output_type": "stream",
          "name": "stdout",
          "text": [
            "iter 0, loss: 1.098574\n",
            "iter 1000, loss: 0.324618\n",
            "iter 2000, loss: 0.361132\n",
            "iter 3000, loss: 0.295868\n",
            "iter 4000, loss: 0.353024\n",
            "iter 5000, loss: 0.279618\n",
            "iter 6000, loss: 0.294815\n",
            "iter 7000, loss: 0.311222\n",
            "iter 8000, loss: 0.312481\n",
            "iter 9000, loss: 0.267462\n",
            "training accuracy: 90.00 %\n",
            "(1, 89600)\n"
          ]
        },
        {
          "output_type": "display_data",
          "data": {
            "text/plain": [
              "<Figure size 432x288 with 1 Axes>"
            ],
            "image/png": "[encoded data removed]"
          },
          "metadata": {}
        }
      ]
    },
    {
      "cell_type": "code",
      "source": [
        "import csv\n",
        "row = []\n",
        "try:\n",
        "    with open('D:/dung.csv', 'r') as fh:\n",
        "        reader = csv.reader(fh)\n",
        "        for info in reader:\n",
        "            row.append(info)\n",
        "except IOError as ex:\n",
        "    print(\"Error performing I/O operations on the file: \",ex)\n",
        "\n",
        "print(row[0:10])\n",
        "\n",
        "import csv\n",
        "try:\n",
        "    with open('dung.csv', 'w') as fh:\n",
        "        writer = csv.writer(fh)\n",
        "        for num in range(10):\n",
        "            writer.writerow((num, num**1, num**2))\n",
        "except IOError as ex:\n",
        "    print(\"Error performing I/O operations on the file: \",ex)"
      ],
      "metadata": {
        "colab": {
          "base_uri": "https://localhost:8080/"
        },
        "id": "AAARmwkCPNQC",
        "outputId": "48ce7fd4-8d4f-4dff-d9ff-e005371f0a0f"
      },
      "execution_count": null,
      "outputs": [
        {
          "output_type": "stream",
          "name": "stdout",
          "text": [
            "Error performing I/O operations on the file:  [Errno 2] No such file or directory: 'D:/dung.csv'\n",
            "[]\n"
          ]
        }
      ]
    },
    {
      "cell_type": "code",
      "source": [
        "fhandler = open('test.txt', 'w') \n",
        "    fhandler.write('Hello World')\n",
        "except IOError as ex:\n",
        "    print(\"Error performing I/O operations on the file: \",ex)\n",
        "finally:\n",
        "    if fhandler:\n",
        "        fhandler.close()"
      ],
      "metadata": {
        "id": "0rL0jzhsJj5A",
        "outputId": "70862b5d-043d-46af-b4f7-c7abb628abd4",
        "colab": {
          "base_uri": "https://localhost:8080/",
          "height": 130
        }
      },
      "execution_count": null,
      "outputs": [
        {
          "output_type": "error",
          "ename": "IndentationError",
          "evalue": "ignored",
          "traceback": [
            "\u001b[0;36m  File \u001b[0;32m\"<ipython-input-1-b4f55ecf53b8>\"\u001b[0;36m, line \u001b[0;32m2\u001b[0m\n\u001b[0;31m    fhandler.write('Hello World')\u001b[0m\n\u001b[0m    ^\u001b[0m\n\u001b[0;31mIndentationError\u001b[0m\u001b[0;31m:\u001b[0m unexpected indent\n"
          ]
        }
      ]
    }
  ],
  "metadata": {
    "colab": {
      "collapsed_sections": [],
      "name": "python.ipynb",
      "provenance": [],
      "authorship_tag": "ABX9TyNZ1RgpokjdcvwZNX1asE5j",
      "include_colab_link": true
    },
    "kernelspec": {
      "display_name": "Python 3",
      "name": "python3"
    },
    "language_info": {
      "name": "python"
    }
  },
  "nbformat": 4,
  "nbformat_minor": 0
}